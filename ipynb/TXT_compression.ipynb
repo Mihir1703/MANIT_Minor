{
  "nbformat": 4,
  "nbformat_minor": 0,
  "metadata": {
    "colab": {
      "provenance": [],
      "authorship_tag": "ABX9TyNM5Yfxa54FB59grYKbKBw1",
      "include_colab_link": true
    },
    "kernelspec": {
      "name": "python3",
      "display_name": "Python 3"
    },
    "language_info": {
      "name": "python"
    }
  },
  "cells": [
    {
      "cell_type": "markdown",
      "metadata": {
        "id": "view-in-github",
        "colab_type": "text"
      },
      "source": [
        "<a href=\"https://colab.research.google.com/github/Ajay-Singh-Dabi/Minor/blob/master/TXT_compression.ipynb\" target=\"_parent\"><img src=\"https://colab.research.google.com/assets/colab-badge.svg\" alt=\"Open In Colab\"/></a>"
      ]
    },
    {
      "cell_type": "code",
      "source": [],
      "metadata": {
        "id": "4wYl_Nvpddgv"
      },
      "execution_count": null,
      "outputs": []
    },
    {
      "cell_type": "code",
      "source": [],
      "metadata": {
        "id": "0xbmVzJhdIbT"
      },
      "execution_count": null,
      "outputs": []
    },
    {
      "cell_type": "code",
      "source": [
        "with open('compressedLZ.txt', 'w') as f:\n",
        "    f.write('')"
      ],
      "metadata": {
        "id": "G7ptF2A3dsa2"
      },
      "execution_count": null,
      "outputs": []
    },
    {
      "cell_type": "code",
      "source": [],
      "metadata": {
        "id": "cb67Fc5TeKBh"
      },
      "execution_count": null,
      "outputs": []
    },
    {
      "cell_type": "code",
      "source": [],
      "metadata": {
        "id": "__dxEQT_eJ-F"
      },
      "execution_count": null,
      "outputs": []
    },
    {
      "cell_type": "code",
      "source": [],
      "metadata": {
        "id": "XmGm72eJeJ7k"
      },
      "execution_count": null,
      "outputs": []
    },
    {
      "cell_type": "code",
      "source": [
        "import gzip\n",
        "\n",
        "# Set the path to the input and output files\n",
        "input_file = 'output.lzma'\n",
        "output_file = 'outMoreCompress.lzma'\n",
        "\n",
        "# Open the input and output files\n",
        "with open(input_file, 'rb') as f_in, gzip.open(output_file, 'wb') as f_out:\n",
        "    # Read the input file in chunks of 4096 bytes\n",
        "    chunk_size = 4096\n",
        "    while True:\n",
        "        chunk = f_in.read(chunk_size)\n",
        "        if not chunk:\n",
        "            break\n",
        "        # Write the compressed data to the output file\n",
        "        f_out.write(chunk)\n"
      ],
      "metadata": {
        "id": "4mIu6kkjeJzb"
      },
      "execution_count": null,
      "outputs": []
    },
    {
      "cell_type": "code",
      "source": [
        "import gzip\n",
        "\n",
        "# Set the input and output file names\n",
        "input_file = 'compressedNew.gz'\n",
        "output_file = 'decompressed_file.txt'\n",
        "\n",
        "# Open the input and output files\n",
        "with gzip.open(input_file, 'rt') as fin, open(output_file, 'wt') as fout:\n",
        "    # Read the compressed data from the input file and write the decompressed data to the output file\n",
        "    for line in fin:\n",
        "        fout.write(line)\n"
      ],
      "metadata": {
        "id": "FE5zLNfukZa1"
      },
      "execution_count": null,
      "outputs": []
    },
    {
      "cell_type": "code",
      "source": [
        "with open('outMoreCompress.lzma', 'w') as f:\n",
        "    f.write('')"
      ],
      "metadata": {
        "id": "FE0J2Ur0k6-A"
      },
      "execution_count": null,
      "outputs": []
    },
    {
      "cell_type": "code",
      "source": [],
      "metadata": {
        "id": "8nQsXMcllsCf"
      },
      "execution_count": null,
      "outputs": []
    },
    {
      "cell_type": "code",
      "source": [
        "# def lz77_compress(data, window_size=4096, lookahead_size=15):\n",
        "#     \"\"\"\n",
        "#     Compress a chunk of data using the LZ77 algorithm.\n",
        "\n",
        "#     Args:\n",
        "#         data (bytes): The data to compress.\n",
        "#         window_size (int): The size of the sliding window for matching strings (default: 4096).\n",
        "#         lookahead_size (int): The size of the lookahead buffer for finding matching strings (default: 15).\n",
        "\n",
        "#     Returns:\n",
        "#         bytes: The compressed data.\n",
        "#     \"\"\"\n",
        "#     compressed_data = bytearray()\n",
        "\n",
        "#     # Initialize the search buffer and lookahead buffer\n",
        "#     search_buffer = b'\\x00' * window_size\n",
        "#     lookahead_buffer = data[:lookahead_size]\n",
        "\n",
        "#     # Loop through the data and find matching strings\n",
        "#     i = lookahead_size\n",
        "#     while i <= len(data):\n",
        "#         # Find the longest matching string in the search buffer\n",
        "#         longest_match_length = 0\n",
        "#         longest_match_offset = 0\n",
        "#         for j in range(window_size):\n",
        "#             match_length = 0\n",
        "#             while match_length < len(lookahead_buffer) and data[i + match_length] == search_buffer[j + match_length]:\n",
        "#                 match_length += 1\n",
        "#             if match_length > longest_match_length:\n",
        "#                 longest_match_length = match_length\n",
        "#                 longest_match_offset = j\n",
        "\n",
        "#         # If a matching string was found, encode it and move the search and lookahead buffers\n",
        "#         if longest_match_length > 2:\n",
        "#             offset = window_size - longest_match_offset\n",
        "#             length = longest_match_length\n",
        "#             encoded_bytes = ((offset >> 4) & 0xFF).to_bytes(1, byteorder='big') + (((offset & 0x0F) << 4) | ((length - 3) & 0x0F)).to_bytes(1, byteorder='big')\n",
        "#             compressed_data.extend(encoded_bytes)\n",
        "#             i += longest_match_length\n",
        "#             if i + lookahead_size <= len(data):\n",
        "#                 search_buffer = search_buffer[longest_match_length:] + lookahead_buffer[:longest_match_length]\n",
        "#                 lookahead_buffer = data[i:i + lookahead_size]\n",
        "#             else:\n",
        "#                 search_buffer = search_buffer[longest_match_length:] + lookahead_buffer\n",
        "#                 lookahead_buffer = data[i:]\n",
        "#                 break\n",
        "#         # If no matching string was found, encode the next symbol in the lookahead buffer\n",
        "#         else:\n",
        "#             symbol = lookahead_buffer[0]\n",
        "#             compressed_data.extend(symbol.to_bytes(1, byteorder='big'))\n",
        "#             i += 1\n",
        "#             if i + lookahead_size <= len(data):\n",
        "#                 search_buffer = search_buffer[1:] + symbol.to_bytes(1, byteorder='big')\n",
        "#                 lookahead_buffer = lookahead_buffer[1:] + data[i + lookahead_size - 1:i + lookahead_size]\n",
        "#             else:\n",
        "#                 search_buffer = search_buffer[1:] + symbol.to_bytes(1, byteorder='big')\n",
        "#                 lookahead_buffer = lookahead_buffer[1:]\n",
        "#                 break\n",
        "\n",
        "#     return bytes(compressed_data)\n"
      ],
      "metadata": {
        "id": "pd5aa1QDnVaA"
      },
      "execution_count": null,
      "outputs": []
    },
    {
      "cell_type": "code",
      "source": [
        "# import os\n",
        "\n",
        "# # Define the size of each chunk (in bytes)\n",
        "# CHUNK_SIZE = 1024 * 1024  # 1 MB\n",
        "\n",
        "# # Define the window size and lookahead buffer size for LZ77 compression\n",
        "# WINDOW_SIZE = 4096\n",
        "# LOOKAHEAD_SIZE = 15\n",
        "\n",
        "# # Define the name of the input file and output file\n",
        "# input_file = 'big.txt'\n",
        "# output_file = 'compressed_file.bin'\n",
        "\n",
        "# # Compress the input file chunk by chunk using LZ77 compression\n",
        "# with open(input_file, 'r') as fin, open(output_file, 'wb') as fout:\n",
        "#     # Loop through the input file and compress each chunk of data\n",
        "#     while True:\n",
        "#         # Read the next chunk of data from the input file\n",
        "#         chunk = fin.read(CHUNK_SIZE)\n",
        "#         if not chunk:\n",
        "#             break\n",
        "\n",
        "#         # Compress the chunk using LZ77 compression\n",
        "#         lz77_compress_data = lz77_compress(chunk, window_size=WINDOW_SIZE, lookahead_size=LOOKAHEAD_SIZE)\n",
        "\n",
        "#         # Write the compressed data to the output file\n",
        "#         fout.write(lz77_compress_data)\n",
        "\n",
        "# # Print the sizes of the input and output files\n",
        "# input_file_size = os.path.getsize(input_file)\n",
        "# output_file_size = os.path.getsize(output_file)\n",
        "# print(f\"Input file size: {input_file_size} bytes\")\n",
        "# print(f\"Output file size: {output_file_size} bytes\")\n",
        "# print(f\"Compression ratio: {output_file_size/input_file_size:.2f}\")\n"
      ],
      "metadata": {
        "colab": {
          "base_uri": "https://localhost:8080/",
          "height": 356
        },
        "id": "p0JG-ou7olNJ",
        "outputId": "669e52c5-e11d-4b8c-bcc8-5a4ae821478b"
      },
      "execution_count": null,
      "outputs": [
        {
          "output_type": "error",
          "ename": "AttributeError",
          "evalue": "ignored",
          "traceback": [
            "\u001b[0;31m---------------------------------------------------------------------------\u001b[0m",
            "\u001b[0;31mAttributeError\u001b[0m                            Traceback (most recent call last)",
            "\u001b[0;32m<ipython-input-40-f2c386a06466>\u001b[0m in \u001b[0;36m<module>\u001b[0;34m\u001b[0m\n\u001b[1;32m     22\u001b[0m \u001b[0;34m\u001b[0m\u001b[0m\n\u001b[1;32m     23\u001b[0m         \u001b[0;31m# Compress the chunk using LZ77 compression\u001b[0m\u001b[0;34m\u001b[0m\u001b[0;34m\u001b[0m\u001b[0m\n\u001b[0;32m---> 24\u001b[0;31m         \u001b[0mlz77_compress_data\u001b[0m \u001b[0;34m=\u001b[0m \u001b[0mlz77_compress\u001b[0m\u001b[0;34m(\u001b[0m\u001b[0mchunk\u001b[0m\u001b[0;34m,\u001b[0m \u001b[0mwindow_size\u001b[0m\u001b[0;34m=\u001b[0m\u001b[0mWINDOW_SIZE\u001b[0m\u001b[0;34m,\u001b[0m \u001b[0mlookahead_size\u001b[0m\u001b[0;34m=\u001b[0m\u001b[0mLOOKAHEAD_SIZE\u001b[0m\u001b[0;34m)\u001b[0m\u001b[0;34m\u001b[0m\u001b[0;34m\u001b[0m\u001b[0m\n\u001b[0m\u001b[1;32m     25\u001b[0m \u001b[0;34m\u001b[0m\u001b[0m\n\u001b[1;32m     26\u001b[0m         \u001b[0;31m# Write the compressed data to the output file\u001b[0m\u001b[0;34m\u001b[0m\u001b[0;34m\u001b[0m\u001b[0m\n",
            "\u001b[0;32m<ipython-input-38-3ce9ca7537a4>\u001b[0m in \u001b[0;36mlz77_compress\u001b[0;34m(data, window_size, lookahead_size)\u001b[0m\n\u001b[1;32m     48\u001b[0m         \u001b[0;32melse\u001b[0m\u001b[0;34m:\u001b[0m\u001b[0;34m\u001b[0m\u001b[0;34m\u001b[0m\u001b[0m\n\u001b[1;32m     49\u001b[0m             \u001b[0msymbol\u001b[0m \u001b[0;34m=\u001b[0m \u001b[0mlookahead_buffer\u001b[0m\u001b[0;34m[\u001b[0m\u001b[0;36m0\u001b[0m\u001b[0;34m]\u001b[0m\u001b[0;34m\u001b[0m\u001b[0;34m\u001b[0m\u001b[0m\n\u001b[0;32m---> 50\u001b[0;31m             \u001b[0mcompressed_data\u001b[0m\u001b[0;34m.\u001b[0m\u001b[0mextend\u001b[0m\u001b[0;34m(\u001b[0m\u001b[0msymbol\u001b[0m\u001b[0;34m.\u001b[0m\u001b[0mto_bytes\u001b[0m\u001b[0;34m(\u001b[0m\u001b[0;36m1\u001b[0m\u001b[0;34m,\u001b[0m \u001b[0mbyteorder\u001b[0m\u001b[0;34m=\u001b[0m\u001b[0;34m'big'\u001b[0m\u001b[0;34m)\u001b[0m\u001b[0;34m)\u001b[0m\u001b[0;34m\u001b[0m\u001b[0;34m\u001b[0m\u001b[0m\n\u001b[0m\u001b[1;32m     51\u001b[0m             \u001b[0mi\u001b[0m \u001b[0;34m+=\u001b[0m \u001b[0;36m1\u001b[0m\u001b[0;34m\u001b[0m\u001b[0;34m\u001b[0m\u001b[0m\n\u001b[1;32m     52\u001b[0m             \u001b[0;32mif\u001b[0m \u001b[0mi\u001b[0m \u001b[0;34m+\u001b[0m \u001b[0mlookahead_size\u001b[0m \u001b[0;34m<=\u001b[0m \u001b[0mlen\u001b[0m\u001b[0;34m(\u001b[0m\u001b[0mdata\u001b[0m\u001b[0;34m)\u001b[0m\u001b[0;34m:\u001b[0m\u001b[0;34m\u001b[0m\u001b[0;34m\u001b[0m\u001b[0m\n",
            "\u001b[0;31mAttributeError\u001b[0m: 'str' object has no attribute 'to_bytes'"
          ]
        }
      ]
    },
    {
      "cell_type": "code",
      "source": [
        "import lzma\n",
        "\n",
        "def lzma_compress(input_file_path, output_file_path):\n",
        "    with open(input_file_path, 'rb') as input_file, \\\n",
        "            lzma.open(output_file_path, 'wb') as output_file:\n",
        "        while True:\n",
        "            chunk = input_file.read(1024)\n",
        "            if not chunk:\n",
        "                break\n",
        "            output_file.write(chunk)\n",
        "\n",
        "def lzma_decompress(input_file_path, output_file_path):\n",
        "    with lzma.open(input_file_path, 'rb') as input_file, \\\n",
        "            open(output_file_path, 'wb') as output_file:\n",
        "        while True:\n",
        "            chunk = input_file.read(1024)\n",
        "            if not chunk:\n",
        "                break\n",
        "            output_file.write(chunk)\n"
      ],
      "metadata": {
        "id": "WjbMKEOGqKM6"
      },
      "execution_count": null,
      "outputs": []
    },
    {
      "cell_type": "code",
      "source": [
        "lzma_compress('big.txt', 'output.lzma')"
      ],
      "metadata": {
        "id": "gy6--O3JsShS"
      },
      "execution_count": null,
      "outputs": []
    },
    {
      "cell_type": "code",
      "source": [],
      "metadata": {
        "id": "jJrmD74Jscyo"
      },
      "execution_count": null,
      "outputs": []
    }
  ]
}