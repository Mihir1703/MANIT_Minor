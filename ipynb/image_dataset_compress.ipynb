{
  "nbformat": 4,
  "nbformat_minor": 0,
  "metadata": {
    "colab": {
      "provenance": [],
      "authorship_tag": "ABX9TyPTnF6V4nu6n/TYXrqBHZqU",
      "include_colab_link": true
    },
    "kernelspec": {
      "name": "python3",
      "display_name": "Python 3"
    },
    "language_info": {
      "name": "python"
    }
  },
  "cells": [
    {
      "cell_type": "markdown",
      "metadata": {
        "id": "view-in-github",
        "colab_type": "text"
      },
      "source": [
        "<a href=\"https://colab.research.google.com/github/Ajay-Singh-Dabi/Minor/blob/master/image_dataset_compress.ipynb\" target=\"_parent\"><img src=\"https://colab.research.google.com/assets/colab-badge.svg\" alt=\"Open In Colab\"/></a>"
      ]
    },
    {
      "cell_type": "code",
      "execution_count": null,
      "metadata": {
        "id": "WieCnTIO4MBZ"
      },
      "outputs": [],
      "source": [
        "from PIL import Image\n",
        "import os\n",
        "\n",
        "input_dir = '/path/to/input/directory'\n",
        "output_dir = '/path/to/output/directory'\n",
        "quality = 80  # Set the quality of the WebP images (0-100)\n",
        "\n",
        "# Make sure the output directory exists\n",
        "if not os.path.exists(output_dir):\n",
        "    os.makedirs(output_dir)\n",
        "\n",
        "# Loop through all JPEG images in the input directory\n",
        "for filename in os.listdir(input_dir):\n",
        "    if filename.endswith('.jpg') or filename.endswith('.jpeg'):\n",
        "        # Open the image using Pillow\n",
        "        image = Image.open(os.path.join(input_dir, filename))\n",
        "\n",
        "        # Save the image to WebP format with the specified quality\n",
        "        output_filename = os.path.join(output_dir, os.path.splitext(filename)[0] + '.webp')\n",
        "        image.save(output_filename, 'webp', quality=quality)\n",
        "\n",
        "        # Close the image\n",
        "        image.close()\n",
        "\n",
        "print('Done compressing images.')\n"
      ]
    },
    {
      "cell_type": "code",
      "source": [
        "from PIL import Image\n",
        "import os\n",
        "\n",
        "input_dir = '/path/to/input/directory'\n",
        "output_dir = '/path/to/output/directory'\n",
        "\n",
        "# Make sure the output directory exists\n",
        "if not os.path.exists(output_dir):\n",
        "    os.makedirs(output_dir)\n",
        "\n",
        "# Loop through all WebP images in the input directory\n",
        "for filename in os.listdir(input_dir):\n",
        "    if filename.endswith('.webp'):\n",
        "        # Open the image using Pillow\n",
        "        image = Image.open(os.path.join(input_dir, filename))\n",
        "\n",
        "        # Save the image to JPEG format in the output directory\n",
        "        output_filename = os.path.join(output_dir, os.path.splitext(filename)[0] + '.jpg')\n",
        "        image.save(output_filename, 'jpeg')\n",
        "\n",
        "        # Close the image\n",
        "        image.close()\n",
        "\n",
        "print('Done decompressing images.')\n"
      ],
      "metadata": {
        "id": "r2N56CMU4RRY"
      },
      "execution_count": null,
      "outputs": []
    },
    {
      "cell_type": "code",
      "source": [],
      "metadata": {
        "id": "5K10bbJI5M_m"
      },
      "execution_count": null,
      "outputs": []
    },
    {
      "cell_type": "code",
      "source": [],
      "metadata": {
        "id": "66YFExpXmHpS"
      },
      "execution_count": null,
      "outputs": []
    },
    {
      "cell_type": "code",
      "source": [
        "# #! /usr/bin/env python3\n",
        "\n",
        "# import os\n",
        "# import sys\n",
        "\n",
        "# from PIL import Image\n",
        "# import numpy as np\n",
        "\n",
        "\n",
        "# def load_image():\n",
        "#     \"\"\" Load image from path. Return a numpy array \"\"\"\n",
        "#     image = Image.open('DSC_0177.JPG')\n",
        "#     return np.asarray(image) / 255\n",
        "\n",
        "\n",
        "# def initialize_K_centroids(X, K):\n",
        "#     \"\"\" Choose K points from X at random \"\"\"\n",
        "#     m = len(X)\n",
        "#     return X[np.random.choice(m, K, replace=False), :]\n",
        "\n",
        "\n",
        "# def find_closest_centroids(X, centroids):\n",
        "#     m = len(X)\n",
        "#     c = np.zeros(m)\n",
        "    \n",
        "#     for i in range(m):\n",
        "#         # Find distances\n",
        "#         distances = np.linalg.norm(X[i] - centroids, axis=1)\n",
        "\n",
        "#         # Assign closest cluster to c[i]\n",
        "#         c[i] = np.argmin(distances)\n",
        "\n",
        "#     return c\n",
        "\n",
        "\n",
        "# def compute_means(X, idx, K):\n",
        "#     _, n = X.shape\n",
        "#     centroids = np.zeros((K, n))\n",
        "#     for k in range(K):\n",
        "#         examples = X[np.where(idx == k)]\n",
        "#         mean = [np.mean(column) for column in examples.T]\n",
        "#         centroids[k] = mean\n",
        "#     return centroids\n",
        "\n",
        "\n",
        "# def find_k_means(X, K, max_iters=10):\n",
        "#     centroids = initialize_K_centroids(X, K)\n",
        "#     previous_centroids = centroids\n",
        "#     for _ in range(max_iters):\n",
        "#         idx = find_closest_centroids(X, centroids)\n",
        "#         centroids = compute_means(X, idx, K)\n",
        "#         if (previous_centroids==centroids).all():\n",
        "#             # The centroids aren't moving anymore.\n",
        "#             return centroids\n",
        "#         else:\n",
        "#             previous_centroids = centroids\n",
        "\n",
        "#     return centroids, idx\n",
        "\n",
        "\n",
        "# def main():\n",
        "#     try:\n",
        "#         image_path = sys.argv[1]\n",
        "#         assert os.path.isfile(image_path)\n",
        "#     except (IndexError, AssertionError):\n",
        "#         print('Please specify an image')\n",
        "\n",
        "#     # Load the image\n",
        "#     image = load_image()\n",
        "#     w, h, d = image.shape\n",
        "#     print('Image found with width: {}, height: {}, depth: {}'.format(w, h, d))\n",
        "\n",
        "#     # Get the feature matrix X\n",
        "#     X = image.reshape((w * h, d))\n",
        "#     K = 40 # the number of colors in the image\n",
        "\n",
        "#     # Get colors\n",
        "#     print('Running K-means')\n",
        "#     colors, _ = find_k_means(X, K, max_iters=20)\n",
        "\n",
        "#     # Indexes for color for each pixel\n",
        "#     idx = find_closest_centroids(X, colors)\n",
        "\n",
        "#     # Reconstruct the image\n",
        "#     idx = np.array(idx, dtype=np.uint8)\n",
        "#     X_reconstructed = np.array(colors[idx, :] * 255, dtype=np.uint8).reshape((w, h, d))\n",
        "#     compressed_image = Image.fromarray(X_reconstructed)\n",
        "\n",
        "#     # Save reconstructed image to disk\n",
        "#     compressed_image.save('out.png')\n",
        "\n",
        "\n",
        "# if __name__ == '__main__':\n",
        "#     main()"
      ],
      "metadata": {
        "colab": {
          "base_uri": "https://localhost:8080/",
          "height": 398
        },
        "id": "F1XBvTRbmHl7",
        "outputId": "5f2bbcc5-bfc0-43c0-ca4b-5a2abd5337e9"
      },
      "execution_count": 5,
      "outputs": [
        {
          "output_type": "stream",
          "name": "stdout",
          "text": [
            "Please specify an image\n",
            "Image found with width: 4000, height: 6000, depth: 3\n",
            "Running K-means\n"
          ]
        },
        {
          "output_type": "error",
          "ename": "KeyboardInterrupt",
          "evalue": "ignored",
          "traceback": [
            "\u001b[0;31m---------------------------------------------------------------------------\u001b[0m",
            "\u001b[0;31mKeyboardInterrupt\u001b[0m                         Traceback (most recent call last)",
            "\u001b[0;32m<ipython-input-5-63ef38dca869>\u001b[0m in \u001b[0;36m<cell line: 93>\u001b[0;34m()\u001b[0m\n\u001b[1;32m     92\u001b[0m \u001b[0;34m\u001b[0m\u001b[0m\n\u001b[1;32m     93\u001b[0m \u001b[0;32mif\u001b[0m \u001b[0m__name__\u001b[0m \u001b[0;34m==\u001b[0m \u001b[0;34m'__main__'\u001b[0m\u001b[0;34m:\u001b[0m\u001b[0;34m\u001b[0m\u001b[0;34m\u001b[0m\u001b[0m\n\u001b[0;32m---> 94\u001b[0;31m     \u001b[0mmain\u001b[0m\u001b[0;34m(\u001b[0m\u001b[0;34m)\u001b[0m\u001b[0;34m\u001b[0m\u001b[0;34m\u001b[0m\u001b[0m\n\u001b[0m",
            "\u001b[0;32m<ipython-input-5-63ef38dca869>\u001b[0m in \u001b[0;36mmain\u001b[0;34m()\u001b[0m\n\u001b[1;32m     77\u001b[0m     \u001b[0;31m# Get colors\u001b[0m\u001b[0;34m\u001b[0m\u001b[0;34m\u001b[0m\u001b[0m\n\u001b[1;32m     78\u001b[0m     \u001b[0mprint\u001b[0m\u001b[0;34m(\u001b[0m\u001b[0;34m'Running K-means'\u001b[0m\u001b[0;34m)\u001b[0m\u001b[0;34m\u001b[0m\u001b[0;34m\u001b[0m\u001b[0m\n\u001b[0;32m---> 79\u001b[0;31m     \u001b[0mcolors\u001b[0m\u001b[0;34m,\u001b[0m \u001b[0m_\u001b[0m \u001b[0;34m=\u001b[0m \u001b[0mfind_k_means\u001b[0m\u001b[0;34m(\u001b[0m\u001b[0mX\u001b[0m\u001b[0;34m,\u001b[0m \u001b[0mK\u001b[0m\u001b[0;34m,\u001b[0m \u001b[0mmax_iters\u001b[0m\u001b[0;34m=\u001b[0m\u001b[0;36m20\u001b[0m\u001b[0;34m)\u001b[0m\u001b[0;34m\u001b[0m\u001b[0;34m\u001b[0m\u001b[0m\n\u001b[0m\u001b[1;32m     80\u001b[0m \u001b[0;34m\u001b[0m\u001b[0m\n\u001b[1;32m     81\u001b[0m     \u001b[0;31m# Indexes for color for each pixel\u001b[0m\u001b[0;34m\u001b[0m\u001b[0;34m\u001b[0m\u001b[0m\n",
            "\u001b[0;32m<ipython-input-5-63ef38dca869>\u001b[0m in \u001b[0;36mfind_k_means\u001b[0;34m(X, K, max_iters)\u001b[0m\n\u001b[1;32m     48\u001b[0m     \u001b[0mprevious_centroids\u001b[0m \u001b[0;34m=\u001b[0m \u001b[0mcentroids\u001b[0m\u001b[0;34m\u001b[0m\u001b[0;34m\u001b[0m\u001b[0m\n\u001b[1;32m     49\u001b[0m     \u001b[0;32mfor\u001b[0m \u001b[0m_\u001b[0m \u001b[0;32min\u001b[0m \u001b[0mrange\u001b[0m\u001b[0;34m(\u001b[0m\u001b[0mmax_iters\u001b[0m\u001b[0;34m)\u001b[0m\u001b[0;34m:\u001b[0m\u001b[0;34m\u001b[0m\u001b[0;34m\u001b[0m\u001b[0m\n\u001b[0;32m---> 50\u001b[0;31m         \u001b[0midx\u001b[0m \u001b[0;34m=\u001b[0m \u001b[0mfind_closest_centroids\u001b[0m\u001b[0;34m(\u001b[0m\u001b[0mX\u001b[0m\u001b[0;34m,\u001b[0m \u001b[0mcentroids\u001b[0m\u001b[0;34m)\u001b[0m\u001b[0;34m\u001b[0m\u001b[0;34m\u001b[0m\u001b[0m\n\u001b[0m\u001b[1;32m     51\u001b[0m         \u001b[0mcentroids\u001b[0m \u001b[0;34m=\u001b[0m \u001b[0mcompute_means\u001b[0m\u001b[0;34m(\u001b[0m\u001b[0mX\u001b[0m\u001b[0;34m,\u001b[0m \u001b[0midx\u001b[0m\u001b[0;34m,\u001b[0m \u001b[0mK\u001b[0m\u001b[0;34m)\u001b[0m\u001b[0;34m\u001b[0m\u001b[0;34m\u001b[0m\u001b[0m\n\u001b[1;32m     52\u001b[0m         \u001b[0;32mif\u001b[0m \u001b[0;34m(\u001b[0m\u001b[0mprevious_centroids\u001b[0m\u001b[0;34m==\u001b[0m\u001b[0mcentroids\u001b[0m\u001b[0;34m)\u001b[0m\u001b[0;34m.\u001b[0m\u001b[0mall\u001b[0m\u001b[0;34m(\u001b[0m\u001b[0;34m)\u001b[0m\u001b[0;34m:\u001b[0m\u001b[0;34m\u001b[0m\u001b[0;34m\u001b[0m\u001b[0m\n",
            "\u001b[0;32m<ipython-input-5-63ef38dca869>\u001b[0m in \u001b[0;36mfind_closest_centroids\u001b[0;34m(X, centroids)\u001b[0m\n\u001b[1;32m     26\u001b[0m     \u001b[0;32mfor\u001b[0m \u001b[0mi\u001b[0m \u001b[0;32min\u001b[0m \u001b[0mrange\u001b[0m\u001b[0;34m(\u001b[0m\u001b[0mm\u001b[0m\u001b[0;34m)\u001b[0m\u001b[0;34m:\u001b[0m\u001b[0;34m\u001b[0m\u001b[0;34m\u001b[0m\u001b[0m\n\u001b[1;32m     27\u001b[0m         \u001b[0;31m# Find distances\u001b[0m\u001b[0;34m\u001b[0m\u001b[0;34m\u001b[0m\u001b[0m\n\u001b[0;32m---> 28\u001b[0;31m         \u001b[0mdistances\u001b[0m \u001b[0;34m=\u001b[0m \u001b[0mnp\u001b[0m\u001b[0;34m.\u001b[0m\u001b[0mlinalg\u001b[0m\u001b[0;34m.\u001b[0m\u001b[0mnorm\u001b[0m\u001b[0;34m(\u001b[0m\u001b[0mX\u001b[0m\u001b[0;34m[\u001b[0m\u001b[0mi\u001b[0m\u001b[0;34m]\u001b[0m \u001b[0;34m-\u001b[0m \u001b[0mcentroids\u001b[0m\u001b[0;34m,\u001b[0m \u001b[0maxis\u001b[0m\u001b[0;34m=\u001b[0m\u001b[0;36m1\u001b[0m\u001b[0;34m)\u001b[0m\u001b[0;34m\u001b[0m\u001b[0;34m\u001b[0m\u001b[0m\n\u001b[0m\u001b[1;32m     29\u001b[0m \u001b[0;34m\u001b[0m\u001b[0m\n\u001b[1;32m     30\u001b[0m         \u001b[0;31m# Assign closest cluster to c[i]\u001b[0m\u001b[0;34m\u001b[0m\u001b[0;34m\u001b[0m\u001b[0m\n",
            "\u001b[0;32m/usr/local/lib/python3.9/dist-packages/numpy/core/overrides.py\u001b[0m in \u001b[0;36mnorm\u001b[0;34m(*args, **kwargs)\u001b[0m\n",
            "\u001b[0;32m/usr/local/lib/python3.9/dist-packages/numpy/linalg/linalg.py\u001b[0m in \u001b[0;36mnorm\u001b[0;34m(x, ord, axis, keepdims)\u001b[0m\n\u001b[1;32m   2526\u001b[0m     \u001b[0;32melif\u001b[0m \u001b[0;32mnot\u001b[0m \u001b[0misinstance\u001b[0m\u001b[0;34m(\u001b[0m\u001b[0maxis\u001b[0m\u001b[0;34m,\u001b[0m \u001b[0mtuple\u001b[0m\u001b[0;34m)\u001b[0m\u001b[0;34m:\u001b[0m\u001b[0;34m\u001b[0m\u001b[0;34m\u001b[0m\u001b[0m\n\u001b[1;32m   2527\u001b[0m         \u001b[0;32mtry\u001b[0m\u001b[0;34m:\u001b[0m\u001b[0;34m\u001b[0m\u001b[0;34m\u001b[0m\u001b[0m\n\u001b[0;32m-> 2528\u001b[0;31m             \u001b[0maxis\u001b[0m \u001b[0;34m=\u001b[0m \u001b[0mint\u001b[0m\u001b[0;34m(\u001b[0m\u001b[0maxis\u001b[0m\u001b[0;34m)\u001b[0m\u001b[0;34m\u001b[0m\u001b[0;34m\u001b[0m\u001b[0m\n\u001b[0m\u001b[1;32m   2529\u001b[0m         \u001b[0;32mexcept\u001b[0m \u001b[0mException\u001b[0m \u001b[0;32mas\u001b[0m \u001b[0me\u001b[0m\u001b[0;34m:\u001b[0m\u001b[0;34m\u001b[0m\u001b[0;34m\u001b[0m\u001b[0m\n\u001b[1;32m   2530\u001b[0m             \u001b[0;32mraise\u001b[0m \u001b[0mTypeError\u001b[0m\u001b[0;34m(\u001b[0m\u001b[0;34m\"'axis' must be None, an integer or a tuple of integers\"\u001b[0m\u001b[0;34m)\u001b[0m \u001b[0;32mfrom\u001b[0m \u001b[0me\u001b[0m\u001b[0;34m\u001b[0m\u001b[0;34m\u001b[0m\u001b[0m\n",
            "\u001b[0;31mKeyboardInterrupt\u001b[0m: "
          ]
        }
      ]
    },
    {
      "cell_type": "code",
      "source": [],
      "metadata": {
        "id": "MqfHW8QGmeY0"
      },
      "execution_count": null,
      "outputs": []
    }
  ]
}