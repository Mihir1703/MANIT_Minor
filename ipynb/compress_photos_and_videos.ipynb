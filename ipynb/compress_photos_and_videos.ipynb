{
  "nbformat": 4,
  "nbformat_minor": 0,
  "metadata": {
    "colab": {
      "provenance": [],
      "authorship_tag": "ABX9TyPgOHoW7zPLzP1ar2SbGeYt",
      "include_colab_link": true
    },
    "kernelspec": {
      "name": "python3",
      "display_name": "Python 3"
    },
    "language_info": {
      "name": "python"
    }
  },
  "cells": [
    {
      "cell_type": "markdown",
      "metadata": {
        "id": "view-in-github",
        "colab_type": "text"
      },
      "source": [
        "<a href=\"https://colab.research.google.com/github/Ajay-Singh-Dabi/Minor/blob/master/compress_photos_and_videos.ipynb\" target=\"_parent\"><img src=\"https://colab.research.google.com/assets/colab-badge.svg\" alt=\"Open In Colab\"/></a>"
      ]
    },
    {
      "cell_type": "code",
      "execution_count": null,
      "metadata": {
        "id": "ne0GsBQd6zBM"
      },
      "outputs": [],
      "source": [
        "import os\n",
        "import subprocess\n",
        "\n",
        "input_dir = 'input_data'\n",
        "output_dir = 'compressed_data'\n",
        "\n",
        "# Create the output directory if it doesn't exist\n",
        "if not os.path.exists(output_dir):\n",
        "    os.makedirs(output_dir)\n",
        "\n",
        "# Loop through all files in the input directory and compress them\n",
        "for filename in os.listdir(input_dir):\n",
        "    input_file = os.path.join(input_dir, filename)\n",
        "    output_file = os.path.join(output_dir, filename)\n",
        "    if filename.endswith('.jpg') or filename.endswith('.png'):\n",
        "        # Use WebP format to compress the image file\n",
        "        command = f'cwebp -q 80 {input_file} -o {output_file}.webp'\n",
        "        subprocess.call(command, shell=True)\n",
        "    elif filename.endswith('.mp4'):\n",
        "        # Use H.264/AVC codec to compress the video file\n",
        "        command = f'ffmpeg -i {input_file} -c:v libx264 -preset veryslow -crf 28 {output_file}.mp4'\n",
        "        subprocess.call(command, shell=True)\n",
        "    else:\n",
        "        # Copy other files directly to the output directory\n",
        "        os.system(f'cp {input_file} {output_file}')\n",
        "\n",
        "print('Compression completed!')\n"
      ]
    },
    {
      "cell_type": "code",
      "source": [
        "import os\n",
        "import subprocess\n",
        "\n",
        "input_dir = 'compressed_data'\n",
        "output_dir = 'decompressed_data'\n",
        "\n",
        "# Create the output directory if it doesn't exist\n",
        "if not os.path.exists(output_dir):\n",
        "    os.makedirs(output_dir)\n",
        "\n",
        "# Loop through all files in the input directory and decompress them\n",
        "for filename in os.listdir(input_dir):\n",
        "    input_file = os.path.join(input_dir, filename)\n",
        "    output_file = os.path.join(output_dir, os.path.splitext(filename)[0])\n",
        "    if filename.endswith('.webp'):\n",
        "        # Use WebP format to decompress the image file\n",
        "        command = f'dwebp {input_file} -o {output_file}.png'\n",
        "        subprocess.call(command, shell=True)\n",
        "    elif filename.endswith('.mp4'):\n",
        "        # Use H.264/AVC codec to decompress the video file\n",
        "        command = f'ffmpeg -i {input_file} {output_file}.avi'\n",
        "        subprocess.call(command, shell=True)\n",
        "    else:\n",
        "        # Copy other files directly to the output directory\n",
        "        os.system(f'cp {input_file} {output_file}')\n",
        "\n",
        "print('Decompression completed!')\n"
      ],
      "metadata": {
        "id": "4JM-QmhS67Ma"
      },
      "execution_count": null,
      "outputs": []
    },
    {
      "cell_type": "code",
      "source": [],
      "metadata": {
        "id": "zyTUgy6i-JcG"
      },
      "execution_count": null,
      "outputs": []
    }
  ]
}